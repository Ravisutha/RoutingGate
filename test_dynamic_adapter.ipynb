{
 "cells": [
  {
   "cell_type": "code",
   "execution_count": 1,
   "id": "e8a20639",
   "metadata": {},
   "outputs": [],
   "source": [
    "from transformers import AutoModelForCausalLM, AutoTokenizer, BitsAndBytesConfig"
   ]
  },
  {
   "cell_type": "code",
   "execution_count": 2,
   "id": "1fe7e033",
   "metadata": {},
   "outputs": [],
   "source": [
    "%load_ext autoreload\n",
    "%autoreload 2\n",
    "\n",
    "from dynamic_adapter import load_models, get_model"
   ]
  },
  {
   "cell_type": "code",
   "execution_count": 3,
   "id": "d609e2a8",
   "metadata": {},
   "outputs": [],
   "source": [
    "model_name = \"../llm_competition/models/mistral_7b/\"\n",
    "bbq_adapter_path = \"../llm_competition/models/cnn_dailymail/mistral_7b/checkpoint-1000/\"\n",
    "cnn_adapter_path = \"../llm_competition/models/cnn_dailymail/mistral_7b/checkpoint-1500/\"\n",
    "math_adapter_path = \"../llm_competition/models/cnn_dailymail/mistral_7b/checkpoint-2000/\"\n",
    "routing_model_path = \"./models/\""
   ]
  },
  {
   "cell_type": "code",
   "execution_count": 4,
   "id": "a6cd026b",
   "metadata": {},
   "outputs": [
    {
     "data": {
      "application/vnd.jupyter.widget-view+json": {
       "model_id": "666ec5af72ba48c389fc9d0013114558",
       "version_major": 2,
       "version_minor": 0
      },
      "text/plain": [
       "Loading checkpoint shards:   0%|          | 0/3 [00:00<?, ?it/s]"
      ]
     },
     "metadata": {},
     "output_type": "display_data"
    }
   ],
   "source": [
    "models = load_models(\n",
    "    model_name,\n",
    "    bbq_adapter_path,\n",
    "    cnn_adapter_path,\n",
    "    math_adapter_path,\n",
    "    routing_model_path,\n",
    "    device=3\n",
    ")"
   ]
  },
  {
   "cell_type": "code",
   "execution_count": 5,
   "id": "e455c02a",
   "metadata": {},
   "outputs": [],
   "source": [
    "tokenizer = AutoTokenizer.from_pretrained(model_name)"
   ]
  },
  {
   "cell_type": "code",
   "execution_count": 15,
   "id": "e5ec104c",
   "metadata": {},
   "outputs": [],
   "source": [
    "input_string = \"\"\"\n",
    "'The following are multiple choice questions (with answers) about high school psychology.\\n\\nQuestion: Ani believes that her attitudes and behavior play a central role in what happens to her. Such a belief is likely to be associated with\\nA. a strong superego.\\nB. low self-esteem.\\nC. low self-efficacy.\\nD. an internal locus of control.\\nAnswer: D\\n\\nQuestion: According to the Individuals with Disabilities Education Improvement Act, which of the following must an educational agency do before it changes the educational placement of a student with a disability?\\nA. Give the child a trial period in the new environment\\nB. Notify the parents in writing\\nC. Obtain school board approval\\nD. Obtain parental consent\\nAnswer: B\\n\\nQuestion: While swimming in the ocean, Ivan is frightened by a dark shadow in the water even before he has the chance to identify what the shadow is. The synaptic connections taking place during this incident of fright are best described by which of the following?\\nA. Messages are sent from the thalamus directly to the amygdala.\\nB. Messages are sent from the thalamus to the \"what\" and \"where\" pathways.\\nC. Messages are sent from the parasympathetic nervous system to the cerebral cortex.\\nD. Messages are sent from the frontal lobes to the pituitary gland.\\nAnswer: A\\n\\nQuestion: According to Caplan\\'s model of consultee-centered case consultation, the consultant is primarily interested in\\nA. identifying the causes and solutions of the client\\'s presenting problems\\nB. identifying and eliminating the causes of the consultee\\'s difficulties in handling a problem\\nC. establishing a hierarchy of authority to enable effective decision making\\nD. presenting a single, well-defined and unambiguous course of action for the consultant to overcome skills deficits\\nAnswer: B\\n\\nQuestion: Pascale is interested in the processing strategies children use to learn new information. Pascale would best be classified as what type of psychologist?\\nA. sociocultural\\nB. clinical\\nC. cognitive\\nD. behaviorist\\nAnswer: C\\n\\nQuestion: Which of the following drugs is classified as a stimulant?\\nA. alcohol\\nB. nicotine\\nC. heroin\\nD. phencyclidine\\nAnswer:'\n",
    "\"\"\""
   ]
  },
  {
   "cell_type": "code",
   "execution_count": 19,
   "id": "475f9c92",
   "metadata": {},
   "outputs": [
    {
     "name": "stdout",
     "output_type": "stream",
     "text": [
      "math\n"
     ]
    }
   ],
   "source": [
    "model = get_model(models, tokenizer, input_string, {\"temperature\": 0.6}, device=\"cuda:3\")"
   ]
  },
  {
   "cell_type": "code",
   "execution_count": 18,
   "id": "220b7d89",
   "metadata": {},
   "outputs": [
    {
     "data": {
      "text/plain": [
       "Routing(\n",
       "  (embedding_layer): Embedding(50257, 768)\n",
       "  (routing_attention_layer): GPT2Block(\n",
       "    (ln_1): LayerNorm((768,), eps=1e-05, elementwise_affine=True)\n",
       "    (attn): GPT2Attention(\n",
       "      (c_attn): Conv1D()\n",
       "      (c_proj): Conv1D()\n",
       "      (attn_dropout): Dropout(p=0.1, inplace=False)\n",
       "      (resid_dropout): Dropout(p=0.1, inplace=False)\n",
       "    )\n",
       "    (ln_2): LayerNorm((768,), eps=1e-05, elementwise_affine=True)\n",
       "    (mlp): GPT2MLP(\n",
       "      (c_fc): Conv1D()\n",
       "      (c_proj): Conv1D()\n",
       "      (act): NewGELUActivation()\n",
       "      (dropout): Dropout(p=0.1, inplace=False)\n",
       "    )\n",
       "  )\n",
       "  (routing_layer_1): Linear(in_features=768, out_features=384, bias=True)\n",
       "  (routing_layer_2): Linear(in_features=384, out_features=192, bias=True)\n",
       "  (routing_layer_3): Linear(in_features=192, out_features=4, bias=True)\n",
       "  (relu): ReLU()\n",
       "  (softmax): Softmax(dim=-1)\n",
       "  (ce_loss): CrossEntropyLoss()\n",
       ")"
      ]
     },
     "execution_count": 18,
     "metadata": {},
     "output_type": "execute_result"
    }
   ],
   "source": [
    "models[\"routing\"]()"
   ]
  },
  {
   "cell_type": "code",
   "execution_count": null,
   "id": "7a27c41f",
   "metadata": {},
   "outputs": [],
   "source": []
  }
 ],
 "metadata": {
  "kernelspec": {
   "display_name": "Python 3",
   "language": "python",
   "name": "python3"
  },
  "language_info": {
   "codemirror_mode": {
    "name": "ipython",
    "version": 3
   },
   "file_extension": ".py",
   "mimetype": "text/x-python",
   "name": "python",
   "nbconvert_exporter": "python",
   "pygments_lexer": "ipython3",
   "version": "3.8.10"
  }
 },
 "nbformat": 4,
 "nbformat_minor": 5
}
